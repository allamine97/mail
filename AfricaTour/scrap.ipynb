{
 "cells": [
  {
   "cell_type": "code",
   "execution_count": 13,
   "metadata": {},
   "outputs": [],
   "source": [
    "from bs4 import BeautifulSoup\n",
    "import requests\n",
    "url =\"http://books.toscrape.com/catalogue/category/books/romance_8/index.html\"\n",
    "html_doc=requests.get(url).text\n",
    "#print(html_doc)\n",
    "soup = BeautifulSoup(html_doc, 'html.parser')\n",
    "#print(soup)\n",
    "def get_book_data(html):\n",
    "    \n",
    "    \"\"\"\n",
    "    <article class=\"product_pod\">     \n",
    "            <div class=\"image_container\">                \n",
    "                    <a href=\"../../../chase-me-paris-nights-2_977/index.html\"><img src=\"../../../../media/cache/9c/2e/9c2e0eb8866b8e3f3b768994fd3d1c1a.jpg\" alt=\"Chase Me (Paris Nights #2)\" class=\"thumbnail\"></a>            \n",
    "            </div>        \n",
    "                <p class=\"star-rating Five\">\n",
    "                    <i class=\"icon-star\"></i>\n",
    "                    <i class=\"icon-star\"></i>\n",
    "                    <i class=\"icon-star\"></i>\n",
    "                    <i class=\"icon-star\"></i>\n",
    "                    <i class=\"icon-star\"></i>\n",
    "                </p>\n",
    "            <h3><a href=\"../../../chase-me-paris-nights-2_977/index.html\" title=\"Chase Me (Paris Nights #2)\">Chase Me (Paris Nights ...</a></h3>\n",
    "            <div class=\"product_price\">\n",
    "        <p class=\"price_color\">£25.27</p>\n",
    "        <p class=\"instock availability\">\n",
    "         <i class=\"icon-ok\"></i>\n",
    "            In stock\n",
    "         </p>\n",
    "       <form>\n",
    "          <button type=\"submit\" class=\"btn btn-primary btn-block\" data-loading-text=\"Adding...\">Add to basket</button>\n",
    "        </form>\n",
    "        </div>    \n",
    "       </article>\n",
    "    \"\"\""
   ]
  },
  {
   "cell_type": "code",
   "execution_count": null,
   "metadata": {},
   "outputs": [],
   "source": [
    "#CODE SOURCE DE SCRAPPING\n",
    "\"\"\"\n",
    "from bs4 import BeautifulSoup\n",
    "import requests\n",
    "\n",
    "url = \"http://books.toscrape.com/catalogue/category/books/romance_8/index.html\"\n",
    "html_doc = requests.get(url).text\n",
    "\n",
    "arbre = BeautifulSoup(html_doc, 'html.parser')\n",
    "list_books = arbre.find_all(\"article\", class_=\"product_pod\")\n",
    "result = []\n",
    "\n",
    "def get_book_data(article_html):\n",
    "    nom = article_html.find(\"h3\").find(\"a\").get(\"title\")\n",
    "    image = article_html.find(\"img\").get(\"src\")\n",
    "    prix = article_html.find(\"p\", class_=\"price_color\").text\n",
    "    note = article_html.find(\"p\", class_=\"star-rating\").get(\"class\")[-1]\n",
    "    return {\n",
    "        \"nom\":nom, \"image\":image,\"prix\":prix, \"note\":note\n",
    "    }\n",
    "\n",
    "for book in list_books:\n",
    "    book_data = get_book_data(book)\n",
    "    result.append(book_data)\n",
    "\n",
    "print(result)\n",
    "\"\"\""
   ]
  }
 ],
 "metadata": {
  "kernelspec": {
   "display_name": "Python 3",
   "language": "python",
   "name": "python3"
  },
  "language_info": {
   "codemirror_mode": {
    "name": "ipython",
    "version": 3
   },
   "file_extension": ".py",
   "mimetype": "text/x-python",
   "name": "python",
   "nbconvert_exporter": "python",
   "pygments_lexer": "ipython3",
   "version": "3.8.1"
  }
 },
 "nbformat": 4,
 "nbformat_minor": 4
}
